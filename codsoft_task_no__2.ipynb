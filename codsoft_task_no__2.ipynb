{
  "nbformat": 4,
  "nbformat_minor": 0,
  "metadata": {
    "colab": {
      "provenance": [],
      "authorship_tag": "ABX9TyMGNd3Xld89PwKN6ciU1LKd",
      "include_colab_link": true
    },
    "kernelspec": {
      "name": "python3",
      "display_name": "Python 3"
    },
    "language_info": {
      "name": "python"
    }
  },
  "cells": [
    {
      "cell_type": "markdown",
      "metadata": {
        "id": "view-in-github",
        "colab_type": "text"
      },
      "source": [
        "<a href=\"https://colab.research.google.com/github/nid067/CODSOFT/blob/main/codsoft_task_no__2.ipynb\" target=\"_parent\"><img src=\"https://colab.research.google.com/assets/colab-badge.svg\" alt=\"Open In Colab\"/></a>"
      ]
    },
    {
      "cell_type": "code",
      "execution_count": 2,
      "metadata": {
        "id": "PlTvBLzHlWg7"
      },
      "outputs": [],
      "source": [
        "import kagglehub as kh"
      ]
    },
    {
      "cell_type": "code",
      "source": [
        "path=kh.dataset_download(\"kartik2112/fraud-detection\")\n",
        "print(\"Path to the file is:\",path)"
      ],
      "metadata": {
        "colab": {
          "base_uri": "https://localhost:8080/"
        },
        "id": "_ou3947dltee",
        "outputId": "31754d6a-abdb-4a88-889d-28a1692746bb"
      },
      "execution_count": 4,
      "outputs": [
        {
          "output_type": "stream",
          "name": "stdout",
          "text": [
            "Path to the file is: /kaggle/input/fraud-detection\n"
          ]
        }
      ]
    }
  ]
}